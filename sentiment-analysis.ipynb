{
 "cells": [
  {
   "cell_type": "markdown",
   "id": "354b1dec",
   "metadata": {},
   "source": [
    "# Imports and config"
   ]
  },
  {
   "cell_type": "code",
   "execution_count": 1,
   "id": "c5260280",
   "metadata": {},
   "outputs": [
    {
     "name": "stdout",
     "output_type": "stream",
     "text": [
      "API key loaded successfully\n"
     ]
    }
   ],
   "source": [
    "import os\n",
    "import dspy\n",
    "from dotenv import load_dotenv\n",
    "\n",
    "# Load environment variables from .env file\n",
    "load_dotenv()\n",
    "\n",
    "# Verify API key is loaded\n",
    "api_key = os.getenv(\"OPENAI_API_KEY\")\n",
    "if api_key:\n",
    "    print(\"API key loaded successfully\")\n",
    "else:\n",
    "    print(\"API key not found in environment variables\")\n"
   ]
  },
  {
   "cell_type": "markdown",
   "id": "7c7fed38",
   "metadata": {},
   "source": [
    "# Configure the LM (Language Model)"
   ]
  },
  {
   "cell_type": "code",
   "execution_count": 2,
   "id": "e881c96b",
   "metadata": {},
   "outputs": [],
   "source": [
    "# Configure the LM (Language Model) with structured output support\n",
    "lm = dspy.LM(\"openai/gpt-4o-mini\", model_type=\"chat\")\n",
    "dspy.settings.configure(lm=lm)"
   ]
  },
  {
   "cell_type": "markdown",
   "id": "8ab224c6",
   "metadata": {},
   "source": [
    "## Use DSPy built-in Module to Build a Sentiment Classifier"
   ]
  },
  {
   "cell_type": "code",
   "execution_count": null,
   "id": "6a995231",
   "metadata": {},
   "outputs": [],
   "source": [
    "class SentimentClassifier(dspy.Signature):\n",
    "    \"\"\"Classify the sentiment of a text.\"\"\"\n",
    "\n",
    "    text: str = dspy.InputField(desc=\"input text to classify sentiment\")\n",
    "    sentiment: int = dspy.OutputField(\n",
    "        desc=\"sentiment, the higher the more positive\", ge=0, le=10\n",
    "    )\n",
    "\n",
    "# For my own notes: ge and le are pydantic constraints restricting the range of the sentiment output to be greater than or equal to: 0, less than or equal to: 10"
   ]
  },
  {
   "cell_type": "code",
   "execution_count": null,
   "id": "f0e8a3f4",
   "metadata": {},
   "outputs": [],
   "source": [
    "str_signature = dspy.make_signature(\"text -> sentiment\")\n",
    "\n",
    "# String based signature for the sentiment classifier (not recommended for production but good for testing)"
   ]
  },
  {
   "cell_type": "markdown",
   "id": "4ea1b016",
   "metadata": {},
   "source": [
    "## Create a Module to Interact with the LM"
   ]
  },
  {
   "cell_type": "code",
   "execution_count": 4,
   "id": "4e0e07f0",
   "metadata": {},
   "outputs": [
    {
     "name": "stdout",
     "output_type": "stream",
     "text": [
      "Prediction successful!\n",
      "Text: 'I am feeling pretty happy about this!'\n",
      "Sentiment: 8\n"
     ]
    }
   ],
   "source": [
    "# Test the sentiment classifier\n",
    "try:\n",
    "    predict = dspy.Predict(SentimentClassifier)\n",
    "    output = predict(text=\"I am feeling pretty happy about this!\")\n",
    "    print(\"Prediction successful!\")\n",
    "    print(f\"Text: 'I am feeling pretty happy about this!'\")\n",
    "    print(f\"Sentiment: {output.sentiment}\")\n",
    "except Exception as e:\n",
    "    print(f\"Error occurred: {e}\")\n",
    "    print(\"Please check your API key and internet connection.\")"
   ]
  },
  {
   "cell_type": "code",
   "execution_count": 5,
   "id": "716e33cd",
   "metadata": {},
   "outputs": [
    {
     "name": "stdout",
     "output_type": "stream",
     "text": [
      "Testing sentiment classification with multiple examples:\n",
      "Text: 'I am feeling pretty happy about this!'\n",
      "Sentiment: 8/10\n",
      "........................................\n",
      "Text: 'This is terrible and I hate it.'\n",
      "Sentiment: 0/10\n",
      "........................................\n",
      "Text: 'I feel neutral about this situation.'\n",
      "Sentiment: 5/10\n",
      "........................................\n",
      "Text: 'I'm absolutely thrilled with the results!'\n",
      "Sentiment: 10/10\n",
      "........................................\n",
      "Text: 'This makes me so angry and frustrated.'\n",
      "Sentiment: 1/10\n",
      "........................................\n"
     ]
    }
   ],
   "source": [
    "# Test with different sentiment examples\n",
    "test_texts = [\n",
    "    \"I am feeling pretty happy about this!\",\n",
    "    \"This is terrible and I hate it.\",\n",
    "    \"I feel neutral about this situation.\",\n",
    "    \"I'm absolutely thrilled with the results!\",\n",
    "    \"This makes me so angry and frustrated.\"\n",
    "]\n",
    "\n",
    "print(\"Testing sentiment classification with multiple examples:\")\n",
    "\n",
    "for text in test_texts:\n",
    "    try:\n",
    "        output = predict(text=text)\n",
    "        print(f\"Text: '{text}'\")\n",
    "        print(f\"Sentiment: {output.sentiment}/10\")\n",
    "        print(\".\" * 40)\n",
    "    except Exception as e:\n",
    "        print(f\"Error processing '{text}': {e}\")\n",
    "        print(\".\" * 40)\n"
   ]
  },
  {
   "cell_type": "code",
   "execution_count": null,
   "id": "aa8082ff",
   "metadata": {},
   "outputs": [
    {
     "name": "stdout",
     "output_type": "stream",
     "text": [
      "The sentiment is: 1\n",
      "The sentiment is 1\n"
     ]
    }
   ],
   "source": [
    "# Alternative ways to view the output\n",
    "\n",
    "print(f\"The sentiment is: {output.sentiment}\")\n",
    "print(f\"The sentiment is {output['sentiment']}\")"
   ]
  },
  {
   "cell_type": "code",
   "execution_count": null,
   "id": "8d6be668",
   "metadata": {},
   "outputs": [
    {
     "name": "stdout",
     "output_type": "stream",
     "text": [
      "Prediction(\n",
      "    sentiment=8\n",
      ")\n"
     ]
    }
   ],
   "source": [
    "# Changing the LM use the dspy.configure() function\n",
    "dspy.configure(lm=dspy.LM(\"openai/gpt-4o\"))\n",
    "print(predict(text=\"I am feeling pretty happy!\"))"
   ]
  },
  {
   "cell_type": "code",
   "execution_count": 8,
   "id": "d0949a61",
   "metadata": {},
   "outputs": [],
   "source": [
    "dspy.configure(lm=dspy.LM(\"openai/gpt-4o-mini\"))"
   ]
  },
  {
   "cell_type": "markdown",
   "id": "24fa8f82",
   "metadata": {},
   "source": [
    "Where is my prompt?\n",
    "Check dspy.inspect_history(n=1) where n is how many entries you want to pull from the memory."
   ]
  },
  {
   "cell_type": "code",
   "execution_count": 9,
   "id": "e0228e84",
   "metadata": {},
   "outputs": [
    {
     "name": "stdout",
     "output_type": "stream",
     "text": [
      "\n",
      "\n",
      "\n",
      "\n",
      "\u001b[34m[2025-10-24T18:30:30.110453]\u001b[0m\n",
      "\n",
      "\u001b[31mSystem message:\u001b[0m\n",
      "\n",
      "Your input fields are:\n",
      "1. `text` (str): input text to classify sentiment\n",
      "Your output fields are:\n",
      "1. `sentiment` (int): sentiment, the higher the more positive\n",
      "Constraints: greater than or equal to: 0, less than or equal to: 10\n",
      "All interactions will be structured in the following way, with the appropriate values filled in.\n",
      "\n",
      "[[ ## text ## ]]\n",
      "{text}\n",
      "\n",
      "[[ ## sentiment ## ]]\n",
      "{sentiment}        # note: the value you produce must be a single int value\n",
      "\n",
      "[[ ## completed ## ]]\n",
      "In adhering to this structure, your objective is: \n",
      "        Classify the sentiment of a text.\n",
      "\n",
      "\n",
      "\u001b[31mUser message:\u001b[0m\n",
      "\n",
      "[[ ## text ## ]]\n",
      "I am feeling pretty happy!\n",
      "\n",
      "Respond with the corresponding output fields, starting with the field `[[ ## sentiment ## ]]` (must be formatted as a valid Python int), and then ending with the marker for `[[ ## completed ## ]]`.\n",
      "\n",
      "\n",
      "\u001b[31mResponse:\u001b[0m\n",
      "\n",
      "\u001b[32m[[ ## sentiment ## ]]\n",
      "8\n",
      "\n",
      "[[ ## completed ## ]]\u001b[0m\n",
      "\n",
      "\n",
      "\n",
      "\n",
      "\n"
     ]
    }
   ],
   "source": [
    "dspy.inspect_history(n=1)"
   ]
  },
  {
   "cell_type": "markdown",
   "id": "f7f29425",
   "metadata": {},
   "source": [
    "# Chain of Thought Built-in module."
   ]
  },
  {
   "cell_type": "code",
   "execution_count": 11,
   "id": "5b125d6f",
   "metadata": {},
   "outputs": [
    {
     "name": "stdout",
     "output_type": "stream",
     "text": [
      "Prediction(\n",
      "    reasoning='The text expresses a positive emotion, specifically happiness. The use of the word \"happy\" indicates a strong positive sentiment. Therefore, the sentiment score is high.',\n",
      "    sentiment=8\n",
      ")\n"
     ]
    }
   ],
   "source": [
    "cot = dspy.ChainOfThought(SentimentClassifier)\n",
    "\n",
    "output = cot(text=\"I am feeling pretty happy!\")\n",
    "print(output)"
   ]
  },
  {
   "cell_type": "code",
   "execution_count": 12,
   "id": "e554e3b8",
   "metadata": {},
   "outputs": [
    {
     "name": "stdout",
     "output_type": "stream",
     "text": [
      "\n",
      "\n",
      "\n",
      "\n",
      "\u001b[34m[2025-10-24T18:31:15.361260]\u001b[0m\n",
      "\n",
      "\u001b[31mSystem message:\u001b[0m\n",
      "\n",
      "Your input fields are:\n",
      "1. `text` (str): input text to classify sentiment\n",
      "Your output fields are:\n",
      "1. `reasoning` (str): \n",
      "2. `sentiment` (int): sentiment, the higher the more positive\n",
      "Constraints: greater than or equal to: 0, less than or equal to: 10\n",
      "All interactions will be structured in the following way, with the appropriate values filled in.\n",
      "\n",
      "[[ ## text ## ]]\n",
      "{text}\n",
      "\n",
      "[[ ## reasoning ## ]]\n",
      "{reasoning}\n",
      "\n",
      "[[ ## sentiment ## ]]\n",
      "{sentiment}        # note: the value you produce must be a single int value\n",
      "\n",
      "[[ ## completed ## ]]\n",
      "In adhering to this structure, your objective is: \n",
      "        Classify the sentiment of a text.\n",
      "\n",
      "\n",
      "\u001b[31mUser message:\u001b[0m\n",
      "\n",
      "[[ ## text ## ]]\n",
      "I am feeling pretty happy!\n",
      "\n",
      "Respond with the corresponding output fields, starting with the field `[[ ## reasoning ## ]]`, then `[[ ## sentiment ## ]]` (must be formatted as a valid Python int), and then ending with the marker for `[[ ## completed ## ]]`.\n",
      "\n",
      "\n",
      "\u001b[31mResponse:\u001b[0m\n",
      "\n",
      "\u001b[32m[[ ## reasoning ## ]]\n",
      "The text expresses a positive emotion, specifically happiness. The use of the word \"happy\" indicates a strong positive sentiment. Therefore, the sentiment score is high.\n",
      "\n",
      "[[ ## sentiment ## ]]\n",
      "8\n",
      "\n",
      "[[ ## completed ## ]]\u001b[0m\n",
      "\n",
      "\n",
      "\n",
      "\n",
      "\n"
     ]
    }
   ],
   "source": [
    "dspy.inspect_history(n=1)"
   ]
  },
  {
   "cell_type": "markdown",
   "id": "8babc42a",
   "metadata": {},
   "source": [
    "## Using a different Adapter"
   ]
  },
  {
   "cell_type": "code",
   "execution_count": 13,
   "id": "1c9b9a07",
   "metadata": {},
   "outputs": [],
   "source": [
    "dspy.configure(adapter=dspy.JSONAdapter())"
   ]
  },
  {
   "cell_type": "code",
   "execution_count": 14,
   "id": "d1fd80db",
   "metadata": {},
   "outputs": [
    {
     "name": "stdout",
     "output_type": "stream",
     "text": [
      "Prediction(\n",
      "    reasoning='The text expresses a positive emotion, specifically happiness, which indicates a strong positive sentiment.',\n",
      "    sentiment=8\n",
      ")\n",
      "\n",
      "\n",
      "\n",
      "\n",
      "\u001b[34m[2025-10-24T18:31:37.249582]\u001b[0m\n",
      "\n",
      "\u001b[31mSystem message:\u001b[0m\n",
      "\n",
      "Your input fields are:\n",
      "1. `text` (str): input text to classify sentiment\n",
      "Your output fields are:\n",
      "1. `reasoning` (str): \n",
      "2. `sentiment` (int): sentiment, the higher the more positive\n",
      "Constraints: greater than or equal to: 0, less than or equal to: 10\n",
      "All interactions will be structured in the following way, with the appropriate values filled in.\n",
      "\n",
      "Inputs will have the following structure:\n",
      "\n",
      "[[ ## text ## ]]\n",
      "{text}\n",
      "\n",
      "Outputs will be a JSON object with the following fields.\n",
      "\n",
      "{\n",
      "  \"reasoning\": \"{reasoning}\",\n",
      "  \"sentiment\": \"{sentiment}        # note: the value you produce must be a single int value\"\n",
      "}\n",
      "In adhering to this structure, your objective is: \n",
      "        Classify the sentiment of a text.\n",
      "\n",
      "\n",
      "\u001b[31mUser message:\u001b[0m\n",
      "\n",
      "[[ ## text ## ]]\n",
      "I am feeling pretty happy!\n",
      "\n",
      "Respond with a JSON object in the following order of fields: `reasoning`, then `sentiment` (must be formatted as a valid Python int).\n",
      "\n",
      "\n",
      "\u001b[31mResponse:\u001b[0m\n",
      "\n",
      "\u001b[32m{\"reasoning\":\"The text expresses a positive emotion, specifically happiness, which indicates a strong positive sentiment.\",\"sentiment\":8}\u001b[0m\n",
      "\n",
      "\n",
      "\n",
      "\n",
      "\n"
     ]
    }
   ],
   "source": [
    "print(cot(text=\"I am feeling pretty happy!\"))\n",
    "dspy.inspect_history(n=1)"
   ]
  },
  {
   "cell_type": "markdown",
   "id": "02acb429",
   "metadata": {},
   "source": [
    "## Building a Program with Custom Module"
   ]
  },
  {
   "cell_type": "code",
   "execution_count": null,
   "id": "c04431d4",
   "metadata": {},
   "outputs": [],
   "source": [
    "class QuestionGenerator(dspy.Signature):\n",
    "    \"\"\"Genereate a yes or no question in order to guess the celebrity name\"\"\"\n",
    "    past_questions: list[str] = dspy.InputField(desc=\"past questions \")\n",
    "    past_answers: list[bool] = dspy.InputField(desc=\"past answers\")\n",
    "    new_question: str = dspy.OutputField(desc=\"new question that can\")\n",
    "    guess_made: bool = dspy.OutputField(desc=\"If the new_question is\")\n",
    "\n",
    "class Reflection(dspy.Signature):\n",
    "    \"\"\"Provide reflection on the guessing process\"\"\"\n",
    "    correct_celebrity_name: str = dspy.InputField(desc=\"the celebrity\")\n",
    "    final_guessor_question: str = dspy.InputField(desc=\"the final guess\")\n",
    "    past_questions: list[str] = dspy.InputField(desc=\"past questions \")\n",
    "    past_answers: list[bool] = dspy.InputField(desc=\"past answers\")\n",
    "\n",
    "    reflection: str = dspy.OutputField(\n",
    "        desc=\"reflection on the guessing process, including what was \"\n",
    "    )\n",
    "\n",
    "def ask(prompt, valid_responses=(\"y\", \"n\")):\n",
    "    while True:\n",
    "        response = input(f\"{prompt} ({'/'.join(valid_responses)}): \").lower()\n",
    "        if response in valid_responses:\n",
    "            return response\n",
    "        print(f\"Please enter one of: {', '.join(valid_responses)}\")\n",
    "\n",
    "class CelebrityGuess(dspy.Module):\n",
    "    def __init__(self, max_tries=10):\n",
    "        super().__init__()\n",
    "\n",
    "        self.question_generator = dspy.ChainOfThought(QuestionGenerator)\n",
    "        self.reflection = dspy.ChainOfThought(Reflection)\n",
    "\n",
    "        self.max_tries = 20\n",
    "\n",
    "    def forward(self):\n",
    "        celebrity_name = input(\"Please think of a celebrity name, once you are ready, type the name and press enter...\")\n",
    "        past_questions = []\n",
    "        past_answers = []\n",
    "\n",
    "        correct_guess = False\n",
    "\n",
    "        for i in range(self.max_tries):\n",
    "            question = self.question_generator(\n",
    "                past_questions=past_questions,\n",
    "                past_answers=past_answers,\n",
    "            )\n",
    "            answer = ask(f\"{question.new_question}\").lower() == \"y\"\n",
    "            past_questions.append(question.new_question)\n",
    "            past_answers.append(answer)\n",
    "\n",
    "            if question.guess_made and answer:\n",
    "                correct_guess = True\n",
    "                break\n",
    "\n",
    "        if correct_guess:\n",
    "            print(\"Yay! I got it right!\")\n",
    "        else:\n",
    "            print(\"Oops, I couldn't guess it right.\")\n",
    "\n",
    "        reflection = self.reflection(\n",
    "            correct_celebrity_name=celebrity_name,\n",
    "            final_guessor_question=question.new_question,\n",
    "            past_questions=past_questions,\n",
    "            past_answers=past_answers,\n",
    "        )\n",
    "        print(reflection.reflection)"
   ]
  },
  {
   "cell_type": "code",
   "execution_count": 17,
   "id": "b1250981",
   "metadata": {},
   "outputs": [
    {
     "data": {
      "text/plain": [
       "question_generator.predict = Predict(StringSignature(past_questions, past_answers -> reasoning, new_question, guess_made\n",
       "    instructions='Genereate a yes or no question in order to guess the celebrity name'\n",
       "    past_questions = Field(annotation=list[str] required=True json_schema_extra={'desc': 'past questions ', '__dspy_field_type': 'input', 'prefix': 'Past Questions:'})\n",
       "    past_answers = Field(annotation=list[bool] required=True json_schema_extra={'desc': 'past answers', '__dspy_field_type': 'input', 'prefix': 'Past Answers:'})\n",
       "    reasoning = Field(annotation=str required=True json_schema_extra={'prefix': \"Reasoning: Let's think step by step in order to\", 'desc': '${reasoning}', '__dspy_field_type': 'output'})\n",
       "    new_question = Field(annotation=str required=True json_schema_extra={'desc': 'new question that can', '__dspy_field_type': 'output', 'prefix': 'New Question:'})\n",
       "    guess_made = Field(annotation=bool required=True json_schema_extra={'desc': 'If the new_question is', '__dspy_field_type': 'output', 'prefix': 'Guess Made:'})\n",
       "))\n",
       "reflection.predict = Predict(StringSignature(correct_celebrity_name, final_guessor_question, past_questions, past_answers -> reasoning, reflection\n",
       "    instructions='Provide reflection on the guessing process'\n",
       "    correct_celebrity_name = Field(annotation=str required=True json_schema_extra={'desc': 'the celebrity', '__dspy_field_type': 'input', 'prefix': 'Correct Celebrity Name:'})\n",
       "    final_guessor_question = Field(annotation=str required=True json_schema_extra={'desc': 'the final guess', '__dspy_field_type': 'input', 'prefix': 'Final Guessor Question:'})\n",
       "    past_questions = Field(annotation=list[str] required=True json_schema_extra={'desc': 'past questions ', '__dspy_field_type': 'input', 'prefix': 'Past Questions:'})\n",
       "    past_answers = Field(annotation=list[bool] required=True json_schema_extra={'desc': 'past answers', '__dspy_field_type': 'input', 'prefix': 'Past Answers:'})\n",
       "    reasoning = Field(annotation=str required=True json_schema_extra={'prefix': \"Reasoning: Let's think step by step in order to\", 'desc': '${reasoning}', '__dspy_field_type': 'output'})\n",
       "    reflection = Field(annotation=str required=True json_schema_extra={'desc': 'reflection on the guessing process, including what was', '__dspy_field_type': 'output', 'prefix': 'Reflection:'})\n",
       "))"
      ]
     },
     "execution_count": 17,
     "metadata": {},
     "output_type": "execute_result"
    }
   ],
   "source": [
    "celebrity_guess = CelebrityGuess()\n",
    "celebrity_guess"
   ]
  },
  {
   "cell_type": "markdown",
   "id": "cc590219",
   "metadata": {},
   "source": [
    "## Save and Load using dspy"
   ]
  },
  {
   "cell_type": "code",
   "execution_count": null,
   "id": "0363446d",
   "metadata": {},
   "outputs": [],
   "source": [
    "celebrity_guess.save(\"dspy_program/celebrity.json\", save_program=False)"
   ]
  },
  {
   "cell_type": "code",
   "execution_count": 26,
   "id": "e864ea89",
   "metadata": {},
   "outputs": [],
   "source": [
    "celebrity_guess.load(\"dspy_program/celebrity.json\")"
   ]
  },
  {
   "cell_type": "code",
   "execution_count": 22,
   "id": "33f9e89c",
   "metadata": {},
   "outputs": [],
   "source": [
    "celebrity_guess.save(\"dspy_program/celebrity/\", save_program=True)"
   ]
  },
  {
   "cell_type": "code",
   "execution_count": 23,
   "id": "12c57604",
   "metadata": {},
   "outputs": [],
   "source": [
    "loaded = dspy.load(\"dspy_program/celebrity/\")"
   ]
  },
  {
   "cell_type": "code",
   "execution_count": 24,
   "id": "0d1d95ed",
   "metadata": {},
   "outputs": [
    {
     "name": "stdout",
     "output_type": "stream",
     "text": [
      "Yay! I got it right!\n",
      "Throughout the guessing process, I focused on narrowing down the celebrity's identity by eliminating various fields of entertainment. The consistent answers indicating a connection to sports helped me hone in on the correct guess. I realized that asking about sports was a pivotal moment, as it confirmed the celebrity's primary domain. This reflection highlights the importance of strategic questioning and how each answer builds upon the last to lead to a more informed final guess.\n"
     ]
    }
   ],
   "source": [
    "loaded()"
   ]
  },
  {
   "cell_type": "code",
   "execution_count": 27,
   "id": "4c743274",
   "metadata": {},
   "outputs": [
    {
     "name": "stdout",
     "output_type": "stream",
     "text": [
      "\n",
      "\n",
      "\n",
      "\n",
      "\u001b[34m[2025-10-24T23:57:09.014270]\u001b[0m\n",
      "\n",
      "\u001b[31mSystem message:\u001b[0m\n",
      "\n",
      "Your input fields are:\n",
      "1. `correct_celebrity_name` (str): the celebrity\n",
      "2. `final_guessor_question` (str): the final guess\n",
      "3. `past_questions` (list[str]): past questions \n",
      "4. `past_answers` (list[bool]): past answers\n",
      "Your output fields are:\n",
      "1. `reasoning` (str): \n",
      "2. `reflection` (str): reflection on the guessing process, including what was\n",
      "All interactions will be structured in the following way, with the appropriate values filled in.\n",
      "\n",
      "Inputs will have the following structure:\n",
      "\n",
      "[[ ## correct_celebrity_name ## ]]\n",
      "{correct_celebrity_name}\n",
      "\n",
      "[[ ## final_guessor_question ## ]]\n",
      "{final_guessor_question}\n",
      "\n",
      "[[ ## past_questions ## ]]\n",
      "{past_questions}\n",
      "\n",
      "[[ ## past_answers ## ]]\n",
      "{past_answers}\n",
      "\n",
      "Outputs will be a JSON object with the following fields.\n",
      "\n",
      "{\n",
      "  \"reasoning\": \"{reasoning}\",\n",
      "  \"reflection\": \"{reflection}\"\n",
      "}\n",
      "In adhering to this structure, your objective is: \n",
      "        Provide reflection on the guessing process\n",
      "\n",
      "\n",
      "\u001b[31mUser message:\u001b[0m\n",
      "\n",
      "[[ ## correct_celebrity_name ## ]]\n",
      "Lebron James\n",
      "\n",
      "[[ ## final_guessor_question ## ]]\n",
      "Is the celebrity primarily known for their work in sports?\n",
      "\n",
      "[[ ## past_questions ## ]]\n",
      "[\"Is the celebrity an actor?\", \"Is the celebrity primarily known for their work in film?\", \"Is the celebrity primarily known for their work in television?\", \"Is the celebrity primarily known for their work in theater?\", \"Is the celebrity primarily known for their work in voice acting?\", \"Is the celebrity primarily known for their work in music?\", \"Is the celebrity primarily known for their work in comedy?\", \"Is the celebrity primarily known for their work in reality television or social media?\", \"Is the celebrity primarily known for their work in action films?\", \"Is the celebrity primarily known for their work in drama?\", \"Is the celebrity primarily known for their work in horror films?\", \"Is the celebrity primarily known for their work in sports or politics?\", \"Is the celebrity primarily known for their work in independent films or a specific niche genre?\", \"Is the celebrity primarily known for their work in sports?\", \"Is the celebrity primarily known for their work in sports?\", \"Is the celebrity primarily known for their work in politics?\", \"Is the celebrity primarily known for their work in politics?\", \"Is the celebrity primarily known for their work in sports?\"]\n",
      "\n",
      "[[ ## past_answers ## ]]\n",
      "[true, false, false, false, false, false, false, false, false, false, false, true, false, true, true, false, false, true]\n",
      "\n",
      "Respond with a JSON object in the following order of fields: `reasoning`, then `reflection`.\n",
      "\n",
      "\n",
      "\u001b[31mResponse:\u001b[0m\n",
      "\n",
      "\u001b[32m{\"reasoning\":\"The final guess question, 'Is the celebrity primarily known for their work in sports?' is a logical choice given the previous answers. The past questions indicate that the celebrity is not primarily known for acting, music, or any other entertainment fields, but has been confirmed to be known for sports. The repeated confirmations of the celebrity's association with sports suggest that the guess is likely correct, as it aligns with the established pattern of answers.\",\"reflection\":\"Throughout the guessing process, I focused on narrowing down the celebrity's identity by eliminating various fields of entertainment. The consistent answers indicating a connection to sports helped me hone in on the correct guess. I realized that asking about sports was a pivotal moment, as it confirmed the celebrity's primary domain. This reflection highlights the importance of strategic questioning and how each answer builds upon the last to lead to a more informed final guess.\"}\u001b[0m\n",
      "\n",
      "\n",
      "\n",
      "\n",
      "\n"
     ]
    }
   ],
   "source": [
    "dspy.inspect_history(n=1)"
   ]
  }
 ],
 "metadata": {
  "kernelspec": {
   "display_name": ".venv",
   "language": "python",
   "name": "python3"
  },
  "language_info": {
   "codemirror_mode": {
    "name": "ipython",
    "version": 3
   },
   "file_extension": ".py",
   "mimetype": "text/x-python",
   "name": "python",
   "nbconvert_exporter": "python",
   "pygments_lexer": "ipython3",
   "version": "3.13.5"
  }
 },
 "nbformat": 4,
 "nbformat_minor": 5
}
