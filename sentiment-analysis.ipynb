{
 "cells": [
  {
   "cell_type": "markdown",
   "id": "354b1dec",
   "metadata": {},
   "source": [
    "# Imports and config"
   ]
  },
  {
   "cell_type": "code",
   "execution_count": null,
   "id": "c5260280",
   "metadata": {},
   "outputs": [],
   "source": [
    "import os\n",
    "import dspy\n",
    "from dotenv import load_dotenv\n",
    "\n",
    "# Load environment variables from .env file\n",
    "load_dotenv()\n",
    "\n",
    "# Verify API key is loaded\n",
    "api_key = os.getenv(\"OPENAI_API_KEY\")\n",
    "if api_key:\n",
    "    print(\"API key loaded successfully\")\n",
    "else:\n",
    "    print(\"API key not found in environment variables\")\n"
   ]
  },
  {
   "cell_type": "markdown",
   "id": "7c7fed38",
   "metadata": {},
   "source": [
    "# Configure the LM (Language Model)"
   ]
  },
  {
   "cell_type": "code",
   "execution_count": null,
   "id": "e881c96b",
   "metadata": {},
   "outputs": [],
   "source": [
    "# Configure the LM (Language Model) with structured output support\n",
    "lm = dspy.LM(\"openai/gpt-4o-mini\", model_type=\"chat\")\n",
    "dspy.settings.configure(lm=lm)"
   ]
  },
  {
   "cell_type": "markdown",
   "id": "8ab224c6",
   "metadata": {},
   "source": [
    "## Use DSPy built-in Module to Build a Sentiment Classifier"
   ]
  },
  {
   "cell_type": "code",
   "execution_count": null,
   "id": "6a995231",
   "metadata": {},
   "outputs": [],
   "source": [
    "class SentimentClassifier(dspy.Signature):\n",
    "    \"\"\"Classify the sentiment of a text.\"\"\"\n",
    "\n",
    "    text: str = dspy.InputField(desc=\"input text to classify sentiment\")\n",
    "    sentiment: int = dspy.OutputField(\n",
    "        desc=\"sentiment, the higher the more positive\", ge=0, le=10\n",
    "    )\n",
    "\n",
    "# For my own notes: ge and le are pydantic constraints restricting the range of the sentiment output between 0-10"
   ]
  },
  {
   "cell_type": "code",
   "execution_count": null,
   "id": "f0e8a3f4",
   "metadata": {},
   "outputs": [],
   "source": [
    "str_signature = dspy.make_signature(\"text -> sentiment\")"
   ]
  },
  {
   "cell_type": "markdown",
   "id": "4ea1b016",
   "metadata": {},
   "source": [
    "## Create a Module to Interact with the LM"
   ]
  },
  {
   "cell_type": "code",
   "execution_count": null,
   "id": "4e0e07f0",
   "metadata": {},
   "outputs": [],
   "source": [
    "# Test the sentiment classifier\n",
    "try:\n",
    "    predict = dspy.Predict(SentimentClassifier)\n",
    "    output = predict(text=\"I am feeling pretty happy about this!\")\n",
    "    print(\"Prediction successful!\")\n",
    "    print(f\"Text: 'I am feeling pretty happy about this!'\")\n",
    "    print(f\"Sentiment: {output.sentiment}\")\n",
    "except Exception as e:\n",
    "    print(f\"Error occurred: {e}\")\n",
    "    print(\"Please check your API key and internet connection.\")"
   ]
  },
  {
   "cell_type": "code",
   "execution_count": null,
   "id": "716e33cd",
   "metadata": {},
   "outputs": [],
   "source": [
    "# Test with different sentiment examples\n",
    "test_texts = [\n",
    "    \"I am feeling pretty happy about this!\",\n",
    "    \"This is terrible and I hate it.\",\n",
    "    \"I feel neutral about this situation.\",\n",
    "    \"I'm absolutely thrilled with the results!\",\n",
    "    \"This makes me so angry and frustrated.\"\n",
    "]\n",
    "\n",
    "print(\"Testing sentiment classification with multiple examples:\")\n",
    "\n",
    "for text in test_texts:\n",
    "    try:\n",
    "        output = predict(text=text)\n",
    "        print(f\"Text: '{text}'\")\n",
    "        print(f\"Sentiment: {output.sentiment}/10\")\n",
    "        print(\".\" * 40)\n",
    "    except Exception as e:\n",
    "        print(f\"Error processing '{text}': {e}\")\n",
    "        print(\".\" * 40)\n"
   ]
  },
  {
   "cell_type": "code",
   "execution_count": null,
   "id": "aa8082ff",
   "metadata": {},
   "outputs": [],
   "source": [
    "print(f\"The sentiment is: {output.sentiment}\")\n",
    "print(f\"The sentiment is {output['sentiment']}\")"
   ]
  },
  {
   "cell_type": "code",
   "execution_count": null,
   "id": "8d6be668",
   "metadata": {},
   "outputs": [],
   "source": [
    "dspy.configure(lm=dspy.LM(\"openai/gpt-4o\"))\n",
    "print(predict(text=\"I am feeling pretty happy!\"))"
   ]
  },
  {
   "cell_type": "code",
   "execution_count": null,
   "id": "d0949a61",
   "metadata": {},
   "outputs": [],
   "source": [
    "dspy.configure(lm=dspy.LM(\"openai/gpt-4o-mini\"))"
   ]
  },
  {
   "cell_type": "markdown",
   "id": "24fa8f82",
   "metadata": {},
   "source": [
    "Where is my prompt?\n",
    "Check dspy.inspect_history(n=1) where n is how many entries you want to pull from the memory."
   ]
  },
  {
   "cell_type": "code",
   "execution_count": null,
   "id": "e0228e84",
   "metadata": {},
   "outputs": [],
   "source": [
    "dspy.inspect_history(n=1)"
   ]
  },
  {
   "cell_type": "markdown",
   "id": "f7f29425",
   "metadata": {},
   "source": [
    "# Chain of Thought Built-in module."
   ]
  },
  {
   "cell_type": "code",
   "execution_count": null,
   "id": "5b125d6f",
   "metadata": {},
   "outputs": [],
   "source": [
    "cot = dspy.ChainofThought(SentimentClassifier)\n",
    "\n",
    "output = cot(text=\"I am feeling pretty happy!\")\n",
    "print(output)"
   ]
  },
  {
   "cell_type": "code",
   "execution_count": null,
   "id": "e554e3b8",
   "metadata": {},
   "outputs": [],
   "source": [
    "dspy.inspect_history(n=1)"
   ]
  },
  {
   "cell_type": "markdown",
   "id": "8babc42a",
   "metadata": {},
   "source": [
    "## Using a different Adapter"
   ]
  },
  {
   "cell_type": "code",
   "execution_count": null,
   "id": "1c9b9a07",
   "metadata": {},
   "outputs": [],
   "source": [
    "dspy.configure(adapter=dspy.JSONAdapter())"
   ]
  },
  {
   "cell_type": "code",
   "execution_count": null,
   "id": "d1fd80db",
   "metadata": {},
   "outputs": [],
   "source": [
    "print(cot(text=\"I am feeling pretty happy!\"))\n",
    "dspy.inspect_history(n=1)"
   ]
  },
  {
   "cell_type": "markdown",
   "id": "02acb429",
   "metadata": {},
   "source": [
    "## Building a Program with Custom Module"
   ]
  },
  {
   "cell_type": "code",
   "execution_count": null,
   "id": "c04431d4",
   "metadata": {},
   "outputs": [],
   "source": [
    "class QuestionGenerator(dspy.Signature):\n",
    "    \"\"\"Genereate a yes or no question in order to guess the celebrity name\"\"\"\n",
    "    past_questions: list[str] = dspy.InputField(desc=\"past questions \")\n",
    "    past_answers: list[bool] = dspy.InputField(desc=\"past answers\")\n",
    "    new_question: str = dspy.OutputField(desc=\"new question that can\")\n",
    "    guess_made: bool = dspy.OutputField(desc=\"If the new_question is\")\n",
    "\n",
    "\n",
    "class Reflection(dspy.Signature):\n",
    "    \"\"\"Provide reflection on the guessing process\"\"\"\n",
    "    correct_celebrity_name: str = dspy.InputField(desc=\"the celebrity\")\n",
    "    final_guessor_question: str = dspy.InputField(desc=\"the final guess\")\n",
    "    past_questions: list[str] = dspy.InputField(desc=\"past questions \")\n",
    "    past_answers: list[bool] = dspy.InputField(desc=\"past answers\")\n",
    "\n",
    "    reflection: str = dspy.OytputField(\n",
    "        desc=\"reflection on the guessing process, including what was\"\n",
    "    )\n",
    "\n",
    "def ask(prompt, valid_responses=(\"y\", \"n\")):\n",
    "    while True:\n",
    "        response = input(f\"{prompt} ({'/'.join(valid_responses)}): \")\n",
    "        if response in valid_responses:\n",
    "            return response\n",
    "        print(f\"Please enter one of: {', '.join(valid_responses)}\")\n",
    "\n",
    "\n",
    "class CelebrityGuess(dspy.Module):\n",
    "    def __init__(self, max_tries=10):\n",
    "        super().__init__()\n",
    "\n",
    "        self.question_generator = dspy.ChainOfThought(QuestionGenerator)\n",
    "        self.reflection = dspy.ChainofThought(Reflection)\n",
    "\n",
    "        self.max_tries = 20\n",
    "\n",
    "    def forward(self):\n",
    "        celebrity_name = input(\"Please think of a celebrity name, once \")\n",
    "        past_questions = []\n",
    "        past_answers = []\n",
    "\n",
    "        correct_guess = False\n",
    "\n",
    "        for i in range(self.max_tries):\n",
    "            question = self.question_generator(\n",
    "                past_questions=past_questions,\n",
    "                past_answers=past_answers,\n",
    "            )\n",
    "            answer = ask(f\"{question.new_question}\").lower() == \"y\"\n",
    "            past_questions.append(question.new_question)\n",
    "            past_answers.append(answer)\n",
    "\n",
    "            if question.guess_made and answer:\n",
    "                correct_guess = True\n",
    "                break\n",
    "\n",
    "        if correct_guess:\n",
    "            print(\"Yay! I got it right!\")\n",
    "        else:\n",
    "            print(\"Oops, I couldn't gguess it right.\")\n",
    "\n",
    "        reflection = self.reflection(\n",
    "            correct_celebrity_name=celebrity_name,\n",
    "            final_guessor_question=question.new_question,\n",
    "            past_questions=past_questions,\n",
    "            past_answers=past_answers,\n",
    "        )\n",
    "        print(reflection.reflection)"
   ]
  },
  {
   "cell_type": "code",
   "execution_count": null,
   "id": "b1250981",
   "metadata": {},
   "outputs": [],
   "source": [
    "celebrity_guess = CelebrityGuess()\n",
    "celebrity_guess"
   ]
  }
 ],
 "metadata": {
  "kernelspec": {
   "display_name": ".venv",
   "language": "python",
   "name": "python3"
  },
  "language_info": {
   "codemirror_mode": {
    "name": "ipython",
    "version": 3
   },
   "file_extension": ".py",
   "mimetype": "text/x-python",
   "name": "python",
   "nbconvert_exporter": "python",
   "pygments_lexer": "ipython3",
   "version": "3.13.5"
  }
 },
 "nbformat": 4,
 "nbformat_minor": 5
}
